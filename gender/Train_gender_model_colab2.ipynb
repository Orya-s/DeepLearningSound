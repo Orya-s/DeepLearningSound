{
  "cells": [
    {
      "cell_type": "code",
      "execution_count": 13,
      "metadata": {
        "colab": {
          "base_uri": "https://localhost:8080/"
        },
        "id": "2PB4FtQFVtU0",
        "outputId": "1231a2e1-f820-4551-b9df-a34ade31a2bc"
      },
      "outputs": [
        {
          "output_type": "stream",
          "name": "stdout",
          "text": [
            "Drive already mounted at /content/drive; to attempt to forcibly remount, call drive.mount(\"/content/drive\", force_remount=True).\n"
          ]
        }
      ],
      "source": [
        "from google.colab import drive\n",
        "drive.mount('/content/drive')"
      ]
    },
    {
      "cell_type": "code",
      "execution_count": 14,
      "metadata": {
        "id": "3J6gRqAeHlwU"
      },
      "outputs": [],
      "source": [
        "%%capture\n",
        "\n",
        "import torch\n",
        "import torch.nn as nn\n",
        "from torch.utils.data import TensorDataset, DataLoader\n",
        "from sklearn.model_selection import train_test_split\n",
        "import pickle\n",
        "import numpy as np\n",
        "import pandas as pd\n",
        "import os\n",
        "import datetime\n",
        "import torchaudio\n",
        "import matplotlib.pyplot as plt\n",
        "from numpy import mat\n",
        "np.set_printoptions(suppress=True)\n",
        "\n",
        "!sudo apt-get install libportaudio2\n",
        "!sudo apt-get install python-scipy\n",
        "\n",
        "!pip install sounddevice\n",
        "!pip install scipy\n",
        "\n",
        "import sounddevice\n",
        "from scipy.io.wavfile import write\n",
        "\n",
        "from sklearn.metrics import f1_score"
      ]
    },
    {
      "cell_type": "markdown",
      "metadata": {
        "id": "aBR0WwxFY0eG"
      },
      "source": [
        "CNN"
      ]
    },
    {
      "cell_type": "code",
      "execution_count": 15,
      "metadata": {
        "id": "BB7YDdNuYUZg"
      },
      "outputs": [],
      "source": [
        "import torch\n",
        "import torch.nn as nn\n",
        "\n",
        "DROP_OUT = 0.5\n",
        "NUM_OF_CLASSES = 2\n",
        "\n",
        "\n",
        "class ConvNet_roi_orya(nn.Module):\n",
        "\n",
        "    def __init__(self, num_of_classes):\n",
        "        super().__init__()\n",
        "\n",
        "        # Hyper parameters\n",
        "        self.epochs = 3\n",
        "        self.batch_size = 50\n",
        "        self.learning_rate = 0.0001\n",
        "\n",
        "\n",
        "        # Model Architecture\n",
        "        self.first_conv = nn.Conv2d(1, 96, kernel_size=(5, 5), padding=1)  # (96, 147, 30)\n",
        "        self.first_bn = nn.BatchNorm2d(96)\n",
        "        self.first_polling = nn.MaxPool2d(kernel_size=(3, 3), stride=(2, 2))  # (96, 73, 14)\n",
        "\n",
        "        self.second_conv = nn.Conv2d(96, 256, kernel_size=(5, 5), padding=1)  # (256, 71, 12)\n",
        "        self.second_bn = nn.BatchNorm2d(256)\n",
        "        self.second_polling = nn.MaxPool2d(kernel_size=(3, 3), stride=(1, 1))  # (256, 69, 10)\n",
        "\n",
        "        self.third_conv = nn.Conv2d(256, 384, kernel_size=(3, 3), padding=1)  # (384, 69, 10 )\n",
        "        self.third_bn = nn.BatchNorm2d(384)\n",
        "\n",
        "        self.forth_conv = nn.Conv2d(384, 256, kernel_size=(3, 3), padding=1)  # (256, 69, 10)\n",
        "        self.forth_bn = nn.BatchNorm2d(256)\n",
        "\n",
        "        self.fifth_conv = nn.Conv2d(256, 256, kernel_size=(3, 3), padding=1)  # (256, 69, 10)\n",
        "        self.fifth_bn = nn.BatchNorm2d(256)\n",
        "        self.fifth_polling = nn.MaxPool2d(kernel_size=(2, 2), stride=(1, 1))  # (256, 68, 9)\n",
        "\n",
        "        self.sixth_conv = nn.Conv2d(256, 64, kernel_size=(2, 2), padding=1)  # (64, 69, 10)\n",
        "\n",
        "        self.seventh_conv = nn.Conv2d(64, 64, kernel_size=(3, 3), padding=1)  # (64, 69, 10)\n",
        "        self.seventh_polling = nn.MaxPool2d(kernel_size=(2, 2), stride=(2, 2))  # (64, 34, 5)\n",
        "\n",
        "        self.eighth_conv = nn.Conv2d(64, 32, kernel_size=(3, 3), padding=1)  # (32, 34, 5)\n",
        "        self.first_drop = nn.Dropout(p=DROP_OUT)\n",
        "\n",
        "        self.avg_polling = nn.AdaptiveAvgPool2d((1, 1))\n",
        "        self.first_dense = nn.Linear(32, 1024)\n",
        "        self.second_drop = nn.Dropout(p=DROP_OUT)\n",
        "\n",
        "        self.second_dense = nn.Linear(1024, num_of_classes)\n",
        "\n",
        "    def forward(self, X):\n",
        "        x = nn.ReLU()(self.first_conv(X))\n",
        "        x = self.first_bn(x)\n",
        "        x = self.first_polling(x)\n",
        "\n",
        "        x = nn.ReLU()(self.second_conv(x))\n",
        "        x = self.second_bn(x)\n",
        "        x = self.second_polling(x)\n",
        "\n",
        "        x = nn.ReLU()(self.third_conv(x))\n",
        "        x = self.third_bn(x)\n",
        "\n",
        "        x = nn.ReLU()(self.forth_conv(x))\n",
        "        x = self.forth_bn(x)\n",
        "\n",
        "        x = nn.ReLU()(self.fifth_conv(x))\n",
        "        x = self.fifth_bn(x)\n",
        "        x = self.fifth_polling(x)\n",
        "\n",
        "        x = nn.ReLU()(self.sixth_conv(x))\n",
        "\n",
        "        x = nn.ReLU()(self.seventh_conv(x))\n",
        "        x = self.seventh_polling(x)\n",
        "\n",
        "        x = nn.ReLU()(self.eighth_conv(x))\n",
        "\n",
        "        x = self.first_drop(x)\n",
        "        x = self.avg_polling(x)\n",
        "\n",
        "        x = x.view(-1, x.shape[1])  # output channel for flatten before entering the dense layer\n",
        "\n",
        "        x = nn.ReLU()(self.first_dense(x))\n",
        "        x = self.second_drop(x)\n",
        "\n",
        "        x = self.second_dense(x)\n",
        "        y = nn.LogSoftmax(dim=1)(x)  # consider using Log-Softmax\n",
        "\n",
        "        return y\n",
        "\n",
        "    def get_epochs(self):\n",
        "        return self.epochs\n",
        "\n",
        "    def get_learning_rate(self):\n",
        "        return self.learning_rate\n",
        "\n",
        "    def get_batch_size(self):\n",
        "        return self.batch_size\n",
        "\n",
        "    def to_string(self):\n",
        "        return \"Model-epoch_\"\n",
        "    \n"
      ]
    },
    {
      "cell_type": "markdown",
      "metadata": {
        "id": "t6mD2i2mY28V"
      },
      "source": [
        "prepareData"
      ]
    },
    {
      "cell_type": "code",
      "execution_count": 16,
      "metadata": {
        "colab": {
          "base_uri": "https://localhost:8080/"
        },
        "id": "m6V4nPdbenMX",
        "outputId": "a092cb8d-0e80-4208-be9b-6742edd44171"
      },
      "outputs": [
        {
          "output_type": "stream",
          "name": "stdout",
          "text": [
            "Requirement already satisfied: numpy==1.20.0rc1 in /usr/local/lib/python3.7/dist-packages (1.20.0rc1)\n"
          ]
        }
      ],
      "source": [
        "!pip install numpy==1.20.0rc1"
      ]
    },
    {
      "cell_type": "markdown",
      "source": [
        "Preprocessing gender data"
      ],
      "metadata": {
        "id": "4VRwyEb5XYhx"
      }
    },
    {
      "cell_type": "code",
      "execution_count": 17,
      "metadata": {
        "id": "a6kzXzNEY3sb"
      },
      "outputs": [],
      "source": [
        "import torch\n",
        "import requests\n",
        "import IPython\n",
        "# import torchaudio\n",
        "\n",
        "import glob\n",
        "import pickle\n",
        "import os\n",
        "import numpy as np\n",
        "\n",
        "\n",
        "from sklearn.model_selection import train_test_split\n",
        "from torch.utils.data import TensorDataset, DataLoader\n",
        "\n",
        "\n",
        "class prepareData:\n",
        "    def __init__(self):\n",
        "        X = []\n",
        "        k = 1\n",
        "        for file in glob.glob(f'/content/drive/MyDrive/data_pkl/*.pkl'):\n",
        "            fname = os.path.basename(file)\n",
        "            path = f'/content/drive/MyDrive/data_pkl/' + fname\n",
        "            pack = []\n",
        "            with open(path, 'rb') as f:\n",
        "                pack = pickle.load(f)\n",
        "            for tens in pack:\n",
        "                X.append(tens)\n",
        "            print(\"finished pkl file number \" + str(k) + \" - \" + fname)\n",
        "            k += 1\n",
        "        d = X\n",
        "\n",
        "        X_data = []\n",
        "        y_gender = []  # gender\n",
        "        y_age = []  # age\n",
        "        self.ages = {\"teens\": 0, \"twenties\": 1, \"thirties\": 2, \"fourties\": 3}\n",
        "        self.ignore_age = {\"fifties\": 4, \"sixties\": 5, \"seventies\": 6, \"eighties\": 7, \"nineties\": 8}\n",
        "        self.genders = {\"male\": 0, \"female\": 1}\n",
        "\n",
        "        gender_sum = [0, 0]\n",
        "        age_sum = [0, 0, 0, 0]\n",
        "        g, a, t = 0, 0, 0\n",
        "        female_sum, male_sum = 0, 0\n",
        "        for i in X:  # iterating over the lines of the data\n",
        "            for j in i:  # iterating over the set in each line\n",
        "                if j in self.genders:\n",
        "                    g = j\n",
        "                elif j in self.ages or j in self.ignore_age:\n",
        "                    a = j\n",
        "                else:  # tensor\n",
        "                    j = torch.nn.functional.normalize(j, p=10.0, dim=1)\n",
        "                    t = j\n",
        "\n",
        "            l = 1\n",
        "\n",
        "            if g == \"male\":\n",
        "                male_sum += 1\n",
        "\n",
        "            if g == \"female\":\n",
        "                female_sum += 1\n",
        "\n",
        "            for i in range(l):  # if l not 0:\n",
        "                y_gender.append(self.genders[g])\n",
        "                gender_sum[self.genders[g]] += 1\n",
        "                X_data.append(t)\n",
        "\n",
        "        print(male_sum)\n",
        "        print(female_sum)\n",
        "        print(\"gender_sum is \", gender_sum)\n",
        "        print(\"age_sum is \", age_sum)\n",
        "        print(sum(gender_sum))\n",
        "        print(\"\\n\")\n",
        "\n",
        "        self.y = np.array(y_gender)  # change this line and below for other label\n",
        "        X_train, X_test, y_train, y_test = train_test_split(np.array(X_data), np.array(y_gender), test_size=0.20)\n",
        "        X_train, X_val, y_train, y_val = train_test_split(np.array(X_train), np.array(y_train), test_size=0.15)\n",
        "\n",
        "        print(\"X_train size -\", len(X_train))\n",
        "        print(\"X_test size -\", len(X_test))\n",
        "        print(\"X_val size -\", len(X_val))\n",
        "        print(\"y_train size -\", len(y_train))\n",
        "        print(\"y_test size -\", len(y_test))\n",
        "        print(\"y_val size -\", len(y_val))\n",
        "        print(\"\\n\")\n",
        "\n",
        "        train = TensorDataset(torch.from_numpy(X_train), torch.from_numpy(y_train))\n",
        "        test = TensorDataset(torch.from_numpy(X_test), torch.from_numpy(y_test))\n",
        "        val = TensorDataset(torch.from_numpy(X_val), torch.from_numpy(y_val))\n",
        "        \n",
        "        self.train_x = torch.from_numpy(X_train)\n",
        "        self.train_y = torch.from_numpy(y_train)\n",
        "        \n",
        "        self.test_x = torch.from_numpy(X_test)\n",
        "        self.test_y = torch.from_numpy(y_test)\n",
        "        \n",
        "        self.train_loader = DataLoader(train, batch_size=50, shuffle=True)\n",
        "        self.test_loader = DataLoader(test, batch_size=50, shuffle=True)\n",
        "        self.val_loader = DataLoader(val, batch_size=50, shuffle=True)\n"
      ]
    },
    {
      "cell_type": "markdown",
      "metadata": {
        "id": "-xUYatfVY-2U"
      },
      "source": [
        "train"
      ]
    },
    {
      "cell_type": "code",
      "execution_count": 18,
      "metadata": {
        "id": "pzIr3Mq_ZIWb"
      },
      "outputs": [],
      "source": [
        "import time\n",
        "\n",
        "import torch\n",
        "from sklearn.utils import class_weight\n",
        "\n",
        "import os\n",
        "from tqdm import tqdm\n",
        "import pandas as pd\n",
        "from datetime import datetime\n",
        "import matplotlib\n",
        "import numpy as np\n",
        "\n",
        "from sklearn.metrics import confusion_matrix\n",
        "import seaborn as sn\n",
        "import pandas as pd\n",
        "import matplotlib.pyplot as plt"
      ]
    },
    {
      "cell_type": "code",
      "execution_count": 19,
      "metadata": {
        "id": "zxh68-DwJqjj"
      },
      "outputs": [],
      "source": [
        "genders = {0: \"male\", 1: \"female\"}"
      ]
    },
    {
      "cell_type": "markdown",
      "source": [
        "Train & Test"
      ],
      "metadata": {
        "id": "6bz2ZVSCYJ37"
      }
    },
    {
      "cell_type": "code",
      "execution_count": 20,
      "metadata": {
        "id": "3HaesdP1JXMs"
      },
      "outputs": [],
      "source": [
        "def test(convnet_model, dataset):\n",
        "    results = []\n",
        "    test_batch_acc = []\n",
        "    y_pred = []\n",
        "    y_true = []\n",
        "    test_loss = 0\n",
        "    count_test = 0\n",
        "\n",
        "    with torch.no_grad():\n",
        "        n_correct = 0\n",
        "        n_samples = 0\n",
        "        n_class_correct = [0 for i in range(3)]\n",
        "        n_class_samples = [0 for i in range(3)]\n",
        "        \n",
        "        n_class = [0 for i in range(len(dataset.test_y))]\n",
        "        j = 0\n",
        "        \n",
        "        for embedding, labels in dataset.test_loader:\n",
        "            \n",
        "            embedding = embedding.type(torch.FloatTensor)\n",
        "            labels = labels.type(torch.LongTensor)\n",
        "            labels = labels.to(device)\n",
        "            embedding = embedding.to(device)\n",
        "            outputs = convnet_model(embedding)\n",
        "\n",
        "            # test loss\n",
        "            test_loss += criterion(outputs, labels.long()).item()\n",
        "            count_test += 1\n",
        "\n",
        "            # max returns (value ,index)\n",
        "            _, predicted = torch.max(outputs, 1)\n",
        "            n_samples += labels.size(0)\n",
        "            n_correct += (predicted == labels).sum().item()\n",
        "\n",
        "            test_batch_acc.append(accuracy(outputs, labels))\n",
        "\n",
        "            for i in range(len(labels)):\n",
        "                label = labels[i]\n",
        "                pred = predicted[i]\n",
        "                if label == pred:\n",
        "                    n_class_correct[label] += 1\n",
        "                n_class_samples[label] += 1\n",
        "                n_class[j] = pred.view(-1).detach().cpu().numpy()[0]\n",
        "                j += 1\n",
        "            \n",
        "            y_pred.extend(predicted.data.cpu().numpy())\n",
        "            y_true.extend(labels.data.cpu().numpy())\n",
        "\n",
        "        returned_acc = sum(test_batch_acc)/len(test_batch_acc)\n",
        "\n",
        "        acc = 100.0 * n_correct / n_samples\n",
        "        results.append(f'Accuracy of the network: {acc} %')\n",
        "\n",
        "        for i in range(2):\n",
        "            acc = 100.0 * n_class_correct[i] / n_class_samples[i]\n",
        "            results.append(f'Accuracy of {genders[i]}: {acc} %')\n",
        "        \n",
        "        f1 = f1_score(y_true, y_pred, average=None)\n",
        "        f1_avg = f1_score(y_true, y_pred, average='weighted')\n",
        "        print(\"f-score: \", f1, \"  f-score avg: \", f1_avg, \"\")\n",
        "\n",
        "        test_loss = np.round(test_loss / count_test, 4)\n",
        "        print(\"test loss - \", test_loss)\n",
        "\n",
        "        return n_class, results, returned_acc, test_loss, f1, f1_avg"
      ]
    },
    {
      "cell_type": "code",
      "execution_count": 21,
      "metadata": {
        "id": "3NKWqGdIJNG9"
      },
      "outputs": [],
      "source": [
        "def my_plot(train_acc, test_acc, train_loss, test_loss, f1_avg):\n",
        "    epochs_x_axis = np.linspace(1, len(train_acc), len(train_acc)).astype(int)\n",
        "\n",
        "    fig, axes = plt.subplots(nrows=1, ncols=3, figsize=(15, 5))\n",
        "    axes[0].plot(epochs_x_axis, train_acc)\n",
        "    axes[0].plot(epochs_x_axis, test_acc)\n",
        "    axes[0].set_ylabel(\"Accuracy\")\n",
        "    axes[0].set_xlabel(\"epochs\")\n",
        "    axes[0].legend(['train', 'test'])\n",
        "    \n",
        "    axes[1].plot(epochs_x_axis, train_loss)\n",
        "    axes[1].plot(epochs_x_axis, test_loss)\n",
        "    axes[1].set_ylabel(\"loss\")\n",
        "    axes[1].set_xlabel(\"epochs\")\n",
        "    axes[1].legend(['train', 'test'])\n",
        "\n",
        "    axes[2].plot(epochs_x_axis, f1_avg)\n",
        "    axes[2].set_ylabel(\"f1_avg\")\n",
        "    axes[2].set_xlabel(\"epochs\")\n",
        "\n",
        "    # fig.tight_layout()\n",
        "    return fig"
      ]
    },
    {
      "cell_type": "code",
      "execution_count": 22,
      "metadata": {
        "id": "-eTO5fi_JMb4"
      },
      "outputs": [],
      "source": [
        "def accuracy(predictions, labels):\n",
        "    classes = torch.argmax(predictions, dim=1)\n",
        "    return torch.mean((classes == labels).float()).to('cpu')"
      ]
    },
    {
      "cell_type": "markdown",
      "source": [
        "Train"
      ],
      "metadata": {
        "id": "jpiQQOQaYBRe"
      }
    },
    {
      "cell_type": "code",
      "execution_count": 23,
      "metadata": {
        "colab": {
          "base_uri": "https://localhost:8080/",
          "height": 1000
        },
        "id": "VSu-bK7TGrp-",
        "outputId": "9f45c58c-d7b7-4af0-c1d2-efe536742922"
      },
      "outputs": [
        {
          "output_type": "stream",
          "name": "stdout",
          "text": [
            "Start\n",
            "Start training:\n",
            "finished pkl file number 1 - all-voice-common.pkl\n",
            "finished pkl file number 2 - all-data-test-vox1.pkl\n",
            "finished pkl file number 3 - all-data-dev-vox1-40-1.pkl\n",
            "finished pkl file number 4 - all-data-dev-vox1-40-2.pkl\n",
            "finished pkl file number 5 - all-data-dev-vox1-40-3.pkl\n",
            "finished pkl file number 6 - all-data-dev-vox1-40-4.pkl\n",
            "finished pkl file number 7 - all-data-dev-vox1-40-5-Orya.pkl\n",
            "finished pkl file number 8 - all-data-dev-vox1-40-6.pkl\n",
            "finished pkl file number 9 - all-data-dev-vox1-40-7.pkl\n",
            "101066\n",
            "54272\n",
            "gender_sum is  [101066, 54272]\n",
            "age_sum is  [0, 0, 0, 0]\n",
            "155338\n",
            "\n",
            "\n",
            "X_train size - 105629\n",
            "X_test size - 31068\n",
            "X_val size - 18641\n",
            "y_train size - 105629\n",
            "y_test size - 31068\n",
            "y_val size - 18641\n",
            "\n",
            "\n",
            "\n",
            "Epoch [1/3], Loss: 0.6686\n",
            "f-score:  [0.74480735 0.59331302]   f-score avg:  0.6919150199822889 \n",
            "test loss -  0.593\n",
            "         Graph epochs 1-0\n",
            "\n",
            "Epoch [2/3], Loss: 0.5813\n",
            "f-score:  [0.74763899 0.63995313]   f-score avg:  0.7100418338522635 \n",
            "test loss -  0.553\n",
            "\n",
            "Epoch [3/3], Loss: 0.5425\n",
            "f-score:  [0.72626637 0.65810048]   f-score avg:  0.7024671112132571 \n",
            "test loss -  0.541\n",
            "max_f_score = 0.7100418338522635, max_f_score_index = 1\n"
          ]
        },
        {
          "output_type": "display_data",
          "data": {
            "text/plain": [
              "<Figure size 1080x360 with 3 Axes>"
            ],
            "image/png": "[encoded data removed]"
          },
          "metadata": {
            "needs_background": "light"
          }
        },
        {
          "output_type": "display_data",
          "data": {
            "text/plain": [
              "<Figure size 1080x360 with 3 Axes>"
            ],
            "image/png": "[encoded data removed]"
          },
          "metadata": {
            "needs_background": "light"
          }
        }
      ],
      "source": [
        "start = time.time()\n",
        "print('Start')\n",
        "print('Start training:')\n",
        "\n",
        "device = torch.device(\"cuda\" if torch.cuda.is_available() else \"cpu\")\n",
        "model = ConvNet_roi_orya(2).to(device)\n",
        "data = prepareData()\n",
        "\n",
        "acc_vals_train = []\n",
        "loss_vals_train = []\n",
        "acc_vals_test = []\n",
        "loss_vals_test = []\n",
        "vals_f1_avg = []\n",
        "max_f_score = 0\n",
        "max_f_score_index = 0\n",
        "\n",
        "optimizer = torch.optim.Adam(model.parameters(), lr=model.learning_rate, weight_decay=1e-4)\n",
        "\n",
        "criterion = torch.nn.CrossEntropyLoss(weight=torch.tensor([1, 1.862])).to(device)\n",
        "\n",
        "n_total_steps = len(data.train_loader)\n",
        "\n",
        "# preparing txt report file\n",
        "results = pd.DataFrame([], columns=['train_loss', 'test_loss', 'Accuracy of the network',\n",
        "                                    'f1_score', 'f1_score_avg'])\n",
        "file = open(f'/content/drive/MyDrive/model' + '/reuslts.txt', 'w')\n",
        "file_txt = ['Date and time :  ' + datetime.now().strftime(\"%d-%m-%Y_%H-%M-%S\"),\n",
        "            'Learning Rate : ' + str(model.learning_rate),\n",
        "            'Epoch Number : ' + str(model.get_epochs)]\n",
        "\n",
        "for s in file_txt:\n",
        "    file.write(s)\n",
        "    file.write('\\r----------------------------\\r\\r')\n",
        "\n",
        "for epoch in range(model.epochs):\n",
        "    epoch_acc = []\n",
        "    epoch_loss = []\n",
        "    for i, (embedding, labels) in enumerate(data.train_loader):\n",
        "\n",
        "        embedding = embedding.type(torch.FloatTensor)\n",
        "        labels = labels.type(torch.LongTensor)\n",
        "    \n",
        "        labels = labels.to(device)\n",
        "        embedding = embedding.to(device)\n",
        "\n",
        "        # Forward pass\n",
        "        outputs = model.forward(embedding)\n",
        "        loss = criterion(outputs, labels)\n",
        "\n",
        "        # Backward and optimize\n",
        "        optimizer.zero_grad()\n",
        "        loss.backward()\n",
        "        optimizer.step()\n",
        "        epoch_acc.append(accuracy(outputs, labels))\n",
        "        epoch_loss.append(loss.item())\n",
        "        if i == 90:\n",
        "            print(f'\\nEpoch [{epoch + 1}/{model.epochs}], Loss: {loss.item():.4f}')\n",
        "            \n",
        "    acc_vals_train.append(sum(epoch_acc)/len(epoch_acc))\n",
        "    loss_vals_train.append(sum(epoch_loss)/len(epoch_loss))\n",
        "    torch.save(model, f'/content/drive/MyDrive/model' + \"/\" + \"gender_\" + model.to_string() + str(epoch + 1) + \".pth\")\n",
        "    \n",
        "    _ , _, test_acc, test_loss, f1, f1_avg = test(model, data)\n",
        "    if f1_avg > max_f_score:\n",
        "      max_f_score = f1_avg\n",
        "      max_f_score_index = epoch\n",
        "    acc_vals_test.append(test_acc)\n",
        "\n",
        "    loss_vals_test.append(test_loss)\n",
        "    vals_f1_avg.append(f1_avg)\n",
        "\n",
        "    if epoch % 50 == 0:\n",
        "      p = my_plot(acc_vals_train, acc_vals_test, loss_vals_train, loss_vals_test, vals_f1_avg)\n",
        "      print(f\"         Graph epochs 1-{epoch}\")\n",
        "      p.tight_layout()\n",
        "\n",
        "    results.loc[len(results)] = [loss_vals_train, test_loss] + [test_acc] + [f1, f1_avg]\n",
        "\n",
        "file.write(results.to_string())\n",
        "\n",
        "print(f'max_f_score = {max_f_score}, max_f_score_index = {max_f_score_index}')\n",
        "\n",
        "p = my_plot(acc_vals_train, acc_vals_test, loss_vals_train, loss_vals_test, vals_f1_avg)\n",
        "p.tight_layout()"
      ]
    }
  ],
  "metadata": {
    "accelerator": "GPU",
    "colab": {
      "collapsed_sections": [],
      "machine_shape": "hm",
      "name": "Train_model.ipynb",
      "provenance": []
    },
    "kernelspec": {
      "display_name": "Python 3",
      "name": "python3"
    },
    "language_info": {
      "name": "python"
    }
  },
  "nbformat": 4,
  "nbformat_minor": 0
}